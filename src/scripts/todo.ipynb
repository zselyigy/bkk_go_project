{
 "cells": [
  {
   "cell_type": "code",
   "execution_count": 3,
   "metadata": {},
   "outputs": [
    {
     "name": "stdout",
     "output_type": "stream",
     "text": [
      "Available goals: \n",
      "\tGoal 1.\n",
      "\tGoal 2.\n",
      "\tGoal 3.\n",
      "Goal 3: \n",
      "\tAz előző, de több szempont szerint (menük a szempontokhoz)\n"
     ]
    }
   ],
   "source": [
    "gs = [\"\\n\\tÓránként az adatbázis lekérése.\", \"\\n\\tAdatok ábrázolása a térképen.\", \"\\n\\tAz előző, de több szempont szerint (menük a szempontokhoz)\"]\n",
    "print(\"Available goals: \")\n",
    "for i in range(len(gs)):\n",
    "    print(f\"\\tGoal {i+1}.\")\n",
    "g = input(\"Chose goal: \")\n",
    "g = int(g)\n",
    "print(f\"Goal {g}: {gs[g-1]}\")"
   ]
  },
  {
   "cell_type": "markdown",
   "metadata": {},
   "source": [
    "#### Feladatok\n",
    "\n",
    "##### Adatok begyűtése\n",
    "1. DONE Script az adatlekérésre, amely perc pontos időbéjegzővel egyedi csv fájlt készít.\n",
    "2. Óránként az adatbázis lekérése, feldolgozása, hozzáadása egy csv fájlhoz.\n",
    "\n",
    "##### Adatok feldolgozása\n",
    "1. Átlagos kerékpárszám, üres állomások száma, maximális kerékpárszám.\n",
    "2. Adatok ábrázolása térképen.\n",
    "\n",
    "##### Adatok tárolása strukturált formában\n",
    "14. SQL adatbázis írása"
   ]
  }
 ],
 "metadata": {
  "kernelspec": {
   "display_name": "venv",
   "language": "python",
   "name": "python3"
  },
  "language_info": {
   "codemirror_mode": {
    "name": "ipython",
    "version": 3
   },
   "file_extension": ".py",
   "mimetype": "text/x-python",
   "name": "python",
   "nbconvert_exporter": "python",
   "pygments_lexer": "ipython3",
   "version": "3.11.6"
  }
 },
 "nbformat": 4,
 "nbformat_minor": 2
}
