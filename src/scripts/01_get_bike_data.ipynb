{
 "cells": [
  {
   "cell_type": "code",
   "execution_count": 4,
   "metadata": {},
   "outputs": [],
   "source": [
    "from datetime import datetime\n",
    "#from dateutil.relativedelta import relativedelta\n",
    "#import os\n",
    "\n",
    "import json\n",
    "import pandas as pd\n",
    "import requests"
   ]
  },
  {
   "cell_type": "code",
   "execution_count": 5,
   "metadata": {},
   "outputs": [],
   "source": [
    "# get the headers of the taxi data\n",
    "url = 'https://futar.bkk.hu/api/query/v1/ws/otp/api/where/bicycle-rental.json?key=bd29005b-80cb-499b-968b-c7be1e6b3d37&version=3&appVersion=1&includeReferences=false'\n",
    "\n",
    "response = requests.get(url)\n",
    "raw_data = response.json()\n",
    "\n",
    "with open('mydata.json', 'w') as file:\n",
    "    json.dump(raw_data, file, indent=4)\n",
    "    \n",
    "with open('mydata2.json', 'w') as file:\n",
    "    json.dump(raw_data['data'], file, indent=4)"
   ]
  },
  {
   "cell_type": "markdown",
   "metadata": {},
   "source": [
    "The structure of the data Dict:\n",
    "\n",
    "    - \"currentTime\": time in Unix timestamp format (milliseconds since the Unix Epoch)\n",
    "    - \"version\": 3,\n",
    "    - \"status\": \"OK\",\n",
    "    - \"code\": 200,\n",
    "    - \"text\": \"OK\",\n",
    "    - \"data\": all the information embedded here\n",
    "\n",
    "The \"data\" key contains the following subkeys:\n",
    "\n",
    "    - \"list\": the detailed information about the bikes and stations\n",
    "    - \"outOfRange\": false    ?\n",
    "    - \"limitExceeded\": false ?\n",
    "    - \"class\": \"listWithReferences\"  ?\n"
   ]
  },
  {
   "cell_type": "markdown",
   "metadata": {},
   "source": [
    "\"list\" is a list of dictionaries about bikes or bike stations\n",
    "\n",
    "An example:\n",
    "```json\n",
    "        {\n",
    "            \"id\": \"42711896\",\n",
    "            \"lat\": 47.51032,\n",
    "            \"lon\": 19.028615,\n",
    "            \"name\": \"Millen\\u00e1ris\",\n",
    "            \"code\": \"0213\",\n",
    "            \"type\": \"stele\",\n",
    "            \"bikes\": 1,\n",
    "            \"spaces\": 999,\n",
    "            \"style\": {\n",
    "                \"icon\": {\n",
    "                    \"name\": \"vehicle-rental/mol-bubi\"\n",
    "                }\n",
    "            }\n",
    "        }\n",
    "```"
   ]
  },
  {
   "cell_type": "markdown",
   "metadata": {},
   "source": [
    "Based on the [API documentation](https://bkkfutar.docs.apiary.io/#reference/0/bicyclerental/bicyclerental):\n",
    "\n",
    "    - id (string):    MOL Bubi állomás azonosítója, e.g. 251962\n",
    "    - lat (number):   latitude, e.g. 47.511182000000005\n",
    "    - lon (number):   longitude, e.g. 19.080324700000002\n",
    "    - name(string):   elnevezés, e.g. 'Dózsa György út'\n",
    "    - code (string):  kód, e.g. '0612' (I guess this is the unique identitier of the station/bike)\n",
    "    - type (enum):    kijelző típusa, e.g. '10inch' or 'character' (these denoted as strings)\n",
    "    - bikes(number):  elérhető kerékpárok száma, e.g. 5\n",
    "    - spaces (number): szabad kerékpár támaszok száma. Ha 0, akkor is elhelyezhető kerékpár az állomáson a \"pót\" támasznál. e.g. 10"
   ]
  },
  {
   "cell_type": "code",
   "execution_count": 6,
   "metadata": {},
   "outputs": [
    {
     "data": {
      "text/html": [
       "<div>\n",
       "<style scoped>\n",
       "    .dataframe tbody tr th:only-of-type {\n",
       "        vertical-align: middle;\n",
       "    }\n",
       "\n",
       "    .dataframe tbody tr th {\n",
       "        vertical-align: top;\n",
       "    }\n",
       "\n",
       "    .dataframe thead th {\n",
       "        text-align: right;\n",
       "    }\n",
       "</style>\n",
       "<table border=\"1\" class=\"dataframe\">\n",
       "  <thead>\n",
       "    <tr style=\"text-align: right;\">\n",
       "      <th></th>\n",
       "      <th>id</th>\n",
       "      <th>lat</th>\n",
       "      <th>lon</th>\n",
       "      <th>name</th>\n",
       "      <th>code</th>\n",
       "      <th>type</th>\n",
       "      <th>bikes</th>\n",
       "      <th>spaces</th>\n",
       "      <th>style</th>\n",
       "    </tr>\n",
       "  </thead>\n",
       "  <tbody>\n",
       "    <tr>\n",
       "      <th>0</th>\n",
       "      <td>42711896</td>\n",
       "      <td>47.510320</td>\n",
       "      <td>19.028615</td>\n",
       "      <td>Millenáris</td>\n",
       "      <td>0213</td>\n",
       "      <td>stele</td>\n",
       "      <td>1</td>\n",
       "      <td>999</td>\n",
       "      <td>{'icon': {'name': 'vehicle-rental/mol-bubi'}}</td>\n",
       "    </tr>\n",
       "    <tr>\n",
       "      <th>1</th>\n",
       "      <td>347962837</td>\n",
       "      <td>47.509107</td>\n",
       "      <td>19.054976</td>\n",
       "      <td>860351</td>\n",
       "      <td>BIKE</td>\n",
       "      <td>NaN</td>\n",
       "      <td>1</td>\n",
       "      <td>999</td>\n",
       "      <td>{'icon': {'name': 'vehicle-rental/mol-bubi-flo...</td>\n",
       "    </tr>\n",
       "    <tr>\n",
       "      <th>2</th>\n",
       "      <td>42990800</td>\n",
       "      <td>47.475277</td>\n",
       "      <td>19.061092</td>\n",
       "      <td>Pázmány Péter sétány - Északi tömb</td>\n",
       "      <td>1118</td>\n",
       "      <td>stele</td>\n",
       "      <td>6</td>\n",
       "      <td>999</td>\n",
       "      <td>{'icon': {'name': 'vehicle-rental/mol-bubi'}}</td>\n",
       "    </tr>\n",
       "    <tr>\n",
       "      <th>3</th>\n",
       "      <td>42990803</td>\n",
       "      <td>47.528740</td>\n",
       "      <td>19.069095</td>\n",
       "      <td>Kassák Lajos utca</td>\n",
       "      <td>1321</td>\n",
       "      <td>stele</td>\n",
       "      <td>5</td>\n",
       "      <td>999</td>\n",
       "      <td>{'icon': {'name': 'vehicle-rental/mol-bubi'}}</td>\n",
       "    </tr>\n",
       "    <tr>\n",
       "      <th>4</th>\n",
       "      <td>42990804</td>\n",
       "      <td>47.525510</td>\n",
       "      <td>19.088246</td>\n",
       "      <td>Rákosrendező vasútállomás</td>\n",
       "      <td>1322</td>\n",
       "      <td>stele</td>\n",
       "      <td>2</td>\n",
       "      <td>999</td>\n",
       "      <td>{'icon': {'name': 'vehicle-rental/mol-bubi'}}</td>\n",
       "    </tr>\n",
       "    <tr>\n",
       "      <th>5</th>\n",
       "      <td>42990801</td>\n",
       "      <td>47.469366</td>\n",
       "      <td>19.059271</td>\n",
       "      <td>Infopark - aluljáró</td>\n",
       "      <td>1119</td>\n",
       "      <td>stele</td>\n",
       "      <td>22</td>\n",
       "      <td>999</td>\n",
       "      <td>{'icon': {'name': 'vehicle-rental/mol-bubi'}}</td>\n",
       "    </tr>\n",
       "    <tr>\n",
       "      <th>6</th>\n",
       "      <td>42990802</td>\n",
       "      <td>47.530329</td>\n",
       "      <td>19.080443</td>\n",
       "      <td>Béke tér</td>\n",
       "      <td>1320</td>\n",
       "      <td>stele</td>\n",
       "      <td>9</td>\n",
       "      <td>999</td>\n",
       "      <td>{'icon': {'name': 'vehicle-rental/mol-bubi'}}</td>\n",
       "    </tr>\n",
       "    <tr>\n",
       "      <th>7</th>\n",
       "      <td>42990807</td>\n",
       "      <td>47.531066</td>\n",
       "      <td>19.076295</td>\n",
       "      <td>Hajdú utca - Szegedi út</td>\n",
       "      <td>1323</td>\n",
       "      <td>stele</td>\n",
       "      <td>2</td>\n",
       "      <td>999</td>\n",
       "      <td>{'icon': {'name': 'vehicle-rental/mol-bubi'}}</td>\n",
       "    </tr>\n",
       "    <tr>\n",
       "      <th>8</th>\n",
       "      <td>42990805</td>\n",
       "      <td>47.533450</td>\n",
       "      <td>19.073750</td>\n",
       "      <td>Pap Károly utca</td>\n",
       "      <td>1324</td>\n",
       "      <td>stele</td>\n",
       "      <td>4</td>\n",
       "      <td>999</td>\n",
       "      <td>{'icon': {'name': 'vehicle-rental/mol-bubi'}}</td>\n",
       "    </tr>\n",
       "    <tr>\n",
       "      <th>9</th>\n",
       "      <td>42990806</td>\n",
       "      <td>47.522460</td>\n",
       "      <td>19.082262</td>\n",
       "      <td>Vágány utca-Róbert Károly körút</td>\n",
       "      <td>1402</td>\n",
       "      <td>stele</td>\n",
       "      <td>5</td>\n",
       "      <td>999</td>\n",
       "      <td>{'icon': {'name': 'vehicle-rental/mol-bubi'}}</td>\n",
       "    </tr>\n",
       "  </tbody>\n",
       "</table>\n",
       "</div>"
      ],
      "text/plain": [
       "          id        lat        lon                                name  code  \\\n",
       "0   42711896  47.510320  19.028615                          Millenáris  0213   \n",
       "1  347962837  47.509107  19.054976                              860351  BIKE   \n",
       "2   42990800  47.475277  19.061092  Pázmány Péter sétány - Északi tömb  1118   \n",
       "3   42990803  47.528740  19.069095                   Kassák Lajos utca  1321   \n",
       "4   42990804  47.525510  19.088246           Rákosrendező vasútállomás  1322   \n",
       "5   42990801  47.469366  19.059271                 Infopark - aluljáró  1119   \n",
       "6   42990802  47.530329  19.080443                            Béke tér  1320   \n",
       "7   42990807  47.531066  19.076295             Hajdú utca - Szegedi út  1323   \n",
       "8   42990805  47.533450  19.073750                     Pap Károly utca  1324   \n",
       "9   42990806  47.522460  19.082262     Vágány utca-Róbert Károly körút  1402   \n",
       "\n",
       "    type  bikes  spaces                                              style  \n",
       "0  stele      1     999      {'icon': {'name': 'vehicle-rental/mol-bubi'}}  \n",
       "1    NaN      1     999  {'icon': {'name': 'vehicle-rental/mol-bubi-flo...  \n",
       "2  stele      6     999      {'icon': {'name': 'vehicle-rental/mol-bubi'}}  \n",
       "3  stele      5     999      {'icon': {'name': 'vehicle-rental/mol-bubi'}}  \n",
       "4  stele      2     999      {'icon': {'name': 'vehicle-rental/mol-bubi'}}  \n",
       "5  stele     22     999      {'icon': {'name': 'vehicle-rental/mol-bubi'}}  \n",
       "6  stele      9     999      {'icon': {'name': 'vehicle-rental/mol-bubi'}}  \n",
       "7  stele      2     999      {'icon': {'name': 'vehicle-rental/mol-bubi'}}  \n",
       "8  stele      4     999      {'icon': {'name': 'vehicle-rental/mol-bubi'}}  \n",
       "9  stele      5     999      {'icon': {'name': 'vehicle-rental/mol-bubi'}}  "
      ]
     },
     "execution_count": 6,
     "metadata": {},
     "output_type": "execute_result"
    }
   ],
   "source": [
    "# create a dataframe from the detailed data\n",
    "bicycle_rental = pd.DataFrame(raw_data['data']['list'])\n",
    "bicycle_rental.head(10)"
   ]
  },
  {
   "cell_type": "markdown",
   "metadata": {},
   "source": [
    "It looks that the spaces key is not updated."
   ]
  },
  {
   "cell_type": "code",
   "execution_count": 7,
   "metadata": {},
   "outputs": [
    {
     "data": {
      "text/plain": [
       "'2024-01-19-12-53'"
      ]
     },
     "execution_count": 7,
     "metadata": {},
     "output_type": "execute_result"
    }
   ],
   "source": [
    "timestamp_milliseconds = raw_data['currentTime'] / 1000  # Convert milliseconds to seconds\n",
    "formatted_date_time = datetime.utcfromtimestamp(timestamp_milliseconds).strftime('%Y-%m-%d-%H-%M')\n",
    "formatted_date_time"
   ]
  },
  {
   "cell_type": "code",
   "execution_count": 8,
   "metadata": {},
   "outputs": [],
   "source": [
    "bicycle_rental.to_csv(f'bicycle_rental_data_{formatted_date_time}.csv',\n",
    "                      index=False)"
   ]
  },
  {
   "cell_type": "markdown",
   "metadata": {},
   "source": [
    "Filter the bike rental stations"
   ]
  },
  {
   "cell_type": "code",
   "execution_count": 15,
   "metadata": {},
   "outputs": [
    {
     "data": {
      "text/plain": [
       "(201, 9)"
      ]
     },
     "execution_count": 15,
     "metadata": {},
     "output_type": "execute_result"
    }
   ],
   "source": [
    "bicycle_rental_stations = bicycle_rental.loc[bicycle_rental['code'] != 'BIKE']\n",
    "bicycle_rental_stations.shape\n"
   ]
  },
  {
   "cell_type": "code",
   "execution_count": 14,
   "metadata": {},
   "outputs": [
    {
     "data": {
      "text/plain": [
       "(232, 9)"
      ]
     },
     "execution_count": 14,
     "metadata": {},
     "output_type": "execute_result"
    }
   ],
   "source": [
    "bicycle_rental.shape"
   ]
  },
  {
   "cell_type": "markdown",
   "metadata": {},
   "source": [
    "A simple test calculating the average number of bikes at the stations."
   ]
  },
  {
   "cell_type": "code",
   "execution_count": 10,
   "metadata": {},
   "outputs": [],
   "source": [
    "# extracteddata = []\n",
    "# atl = 0\n",
    "# for mylist in data[\"data\"][\"list\"]:\n",
    "#     if mylist[\"code\"] != \"BIKES\" and mylist[\"spaces\"] != \"0\":\n",
    "#         extracteddata.append(mylist[\"bikes\"])\n",
    "# for i in range(len(extracteddata)):\n",
    "#     atl += extracteddata[i]\n",
    "# atl /= len(extracteddata)\n",
    "# print(f\"{str(atl)[0:4]}\")\n",
    "    "
   ]
  }
 ],
 "metadata": {
  "kernelspec": {
   "display_name": "venv",
   "language": "python",
   "name": "python3"
  },
  "language_info": {
   "codemirror_mode": {
    "name": "ipython",
    "version": 3
   },
   "file_extension": ".py",
   "mimetype": "text/x-python",
   "name": "python",
   "nbconvert_exporter": "python",
   "pygments_lexer": "ipython3",
   "version": "3.11.6"
  }
 },
 "nbformat": 4,
 "nbformat_minor": 2
}
