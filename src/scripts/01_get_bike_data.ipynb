{
 "cells": [
  {
   "cell_type": "code",
   "execution_count": 14,
   "metadata": {},
   "outputs": [],
   "source": [
    "#from datetime import datetime\n",
    "#from dateutil.relativedelta import relativedelta\n",
    "#import os\n",
    "\n",
    "import json\n",
    "import pandas as pd\n",
    "import requests"
   ]
  },
  {
   "cell_type": "code",
   "execution_count": 17,
   "metadata": {},
   "outputs": [],
   "source": [
    "# get the headers of the taxi data\n",
    "url = 'https://futar.bkk.hu/api/query/v1/ws/otp/api/where/bicycle-rental.json?key=bd29005b-80cb-499b-968b-c7be1e6b3d37&version=3&appVersion=1&includeReferences=false'\n",
    "\n",
    "response = requests.get(url)\n",
    "data = response.json()\n",
    "\n",
    "with open('mydata.json', 'w') as file:\n",
    "    json.dump(data, file, indent=4)"
   ]
  },
  {
   "cell_type": "markdown",
   "metadata": {},
   "source": [
    "The structure of the data Dict:\n",
    "\n",
    "    - \"currentTime\": time in Unix timestamp format (milliseconds since the Unix Epoch)\n",
    "    - \"version\": 3,\n",
    "    - \"status\": \"OK\",\n",
    "    - \"code\": 200,\n",
    "    - \"text\": \"OK\",\n",
    "    - \"data\": all the information embedded here\n",
    "\n",
    "The \"data\" key contains the following subkeys:\n",
    "\n",
    "    - \"list\": the detailed information about the bikes and stations\n",
    "    - \"outOfRange\": false    ?\n",
    "    - \"limitExceeded\": false ?\n",
    "    - \"class\": \"listWithReferences\"  ?\n"
   ]
  },
  {
   "cell_type": "markdown",
   "metadata": {},
   "source": [
    "\"list\" is a list of dictionaries about bikes or bike stations\n",
    "\n",
    "An example:\n",
    "```json\n",
    "        {\n",
    "            \"id\": \"42711896\",\n",
    "            \"lat\": 47.51032,\n",
    "            \"lon\": 19.028615,\n",
    "            \"name\": \"Millen\\u00e1ris\",\n",
    "            \"code\": \"0213\",\n",
    "            \"type\": \"stele\",\n",
    "            \"bikes\": 1,\n",
    "            \"spaces\": 999,\n",
    "            \"style\": {\n",
    "                \"icon\": {\n",
    "                    \"name\": \"vehicle-rental/mol-bubi\"\n",
    "                }\n",
    "            }\n",
    "        }\n",
    "```"
   ]
  },
  {
   "cell_type": "markdown",
   "metadata": {},
   "source": [
    "Based on the [API documentation](https://bkkfutar.docs.apiary.io/#reference/0/bicyclerental/bicyclerental):\n",
    "\n",
    "    - id (string):    MOL Bubi állomás azonosítója, e.g. 251962\n",
    "    - lat (number):   latitude, e.g. 47.511182000000005\n",
    "    - lon (number):   longitude, e.g. 19.080324700000002\n",
    "    - name(string):   elnevezés, e.g. 'Dózsa György út'\n",
    "    - code (string):  kód, e.g. '0612' (I guess this is the unique identitier of the station/bike)\n",
    "    - type (enum):    kijelző típusa, e.g. '10inch' or 'character' (these denoted as strings)\n",
    "    - bikes(number):  elérhető kerékpárok száma, e.g. 5\n",
    "    - spaces (number): szabad kerékpár támaszok száma. Ha 0, akkor is elhelyezhető kerékpár az állomáson a \"pót\" támasznál. e.g. 10"
   ]
  },
  {
   "cell_type": "code",
   "execution_count": 10,
   "metadata": {},
   "outputs": [
    {
     "data": {
      "text/html": [
       "<div>\n",
       "<style scoped>\n",
       "    .dataframe tbody tr th:only-of-type {\n",
       "        vertical-align: middle;\n",
       "    }\n",
       "\n",
       "    .dataframe tbody tr th {\n",
       "        vertical-align: top;\n",
       "    }\n",
       "\n",
       "    .dataframe thead th {\n",
       "        text-align: right;\n",
       "    }\n",
       "</style>\n",
       "<table border=\"1\" class=\"dataframe\">\n",
       "  <thead>\n",
       "    <tr style=\"text-align: right;\">\n",
       "      <th></th>\n",
       "      <th>currentTime</th>\n",
       "      <th>version</th>\n",
       "      <th>status</th>\n",
       "      <th>code</th>\n",
       "      <th>text</th>\n",
       "      <th>data</th>\n",
       "    </tr>\n",
       "  </thead>\n",
       "  <tbody>\n",
       "    <tr>\n",
       "      <th>class</th>\n",
       "      <td>1705653934594</td>\n",
       "      <td>3</td>\n",
       "      <td>OK</td>\n",
       "      <td>200</td>\n",
       "      <td>OK</td>\n",
       "      <td>listWithReferences</td>\n",
       "    </tr>\n",
       "    <tr>\n",
       "      <th>limitExceeded</th>\n",
       "      <td>1705653934594</td>\n",
       "      <td>3</td>\n",
       "      <td>OK</td>\n",
       "      <td>200</td>\n",
       "      <td>OK</td>\n",
       "      <td>False</td>\n",
       "    </tr>\n",
       "    <tr>\n",
       "      <th>list</th>\n",
       "      <td>1705653934594</td>\n",
       "      <td>3</td>\n",
       "      <td>OK</td>\n",
       "      <td>200</td>\n",
       "      <td>OK</td>\n",
       "      <td>[{'id': '42711896', 'lat': 47.51032, 'lon': 19...</td>\n",
       "    </tr>\n",
       "    <tr>\n",
       "      <th>outOfRange</th>\n",
       "      <td>1705653934594</td>\n",
       "      <td>3</td>\n",
       "      <td>OK</td>\n",
       "      <td>200</td>\n",
       "      <td>OK</td>\n",
       "      <td>False</td>\n",
       "    </tr>\n",
       "  </tbody>\n",
       "</table>\n",
       "</div>"
      ],
      "text/plain": [
       "                 currentTime  version status  code text  \\\n",
       "class          1705653934594        3     OK   200   OK   \n",
       "limitExceeded  1705653934594        3     OK   200   OK   \n",
       "list           1705653934594        3     OK   200   OK   \n",
       "outOfRange     1705653934594        3     OK   200   OK   \n",
       "\n",
       "                                                            data  \n",
       "class                                         listWithReferences  \n",
       "limitExceeded                                              False  \n",
       "list           [{'id': '42711896', 'lat': 47.51032, 'lon': 19...  \n",
       "outOfRange                                                 False  "
      ]
     },
     "execution_count": 10,
     "metadata": {},
     "output_type": "execute_result"
    }
   ],
   "source": [
    "\n",
    "# create a dataframe from the data\n",
    "bicycle_rental = pd.DataFrame(data)\n",
    "bicycle_rental.head(10)"
   ]
  },
  {
   "cell_type": "markdown",
   "metadata": {},
   "source": [
    "A simple test calculating the average number of bikes at the stations."
   ]
  },
  {
   "cell_type": "code",
   "execution_count": 60,
   "metadata": {},
   "outputs": [
    {
     "name": "stdout",
     "output_type": "stream",
     "text": [
      "7.24\n"
     ]
    }
   ],
   "source": [
    "extracteddata = []\n",
    "atl = 0\n",
    "for mylist in data[\"data\"][\"list\"]:\n",
    "    if mylist[\"code\"] != \"BIKES\" and mylist[\"spaces\"] != \"0\":\n",
    "        extracteddata.append(mylist[\"bikes\"])\n",
    "for i in range(len(extracteddata)):\n",
    "    atl += extracteddata[i]\n",
    "atl /= len(extracteddata)\n",
    "print(f\"{str(atl)[0:4]}\")\n",
    "    "
   ]
  }
 ],
 "metadata": {
  "kernelspec": {
   "display_name": "venv",
   "language": "python",
   "name": "python3"
  },
  "language_info": {
   "codemirror_mode": {
    "name": "ipython",
    "version": 3
   },
   "file_extension": ".py",
   "mimetype": "text/x-python",
   "name": "python",
   "nbconvert_exporter": "python",
   "pygments_lexer": "ipython3",
   "version": "3.11.6"
  }
 },
 "nbformat": 4,
 "nbformat_minor": 2
}
