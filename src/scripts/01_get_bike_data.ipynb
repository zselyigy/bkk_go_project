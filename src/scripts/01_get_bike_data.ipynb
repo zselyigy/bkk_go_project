{
 "cells": [
  {
   "cell_type": "code",
   "execution_count": 14,
   "metadata": {},
   "outputs": [],
   "source": [
    "#from datetime import datetime\n",
    "#from dateutil.relativedelta import relativedelta\n",
    "#import os\n",
    "\n",
    "import json\n",
    "import pandas as pd\n",
    "import requests"
   ]
  },
  {
   "cell_type": "code",
   "execution_count": 15,
   "metadata": {},
   "outputs": [],
   "source": [
    "# get the headers of the taxi data\n",
    "url = 'https://futar.bkk.hu/api/query/v1/ws/otp/api/where/bicycle-rental.json?key=bd29005b-80cb-499b-968b-c7be1e6b3d37&version=3&appVersion=1&includeReferences=false'\n",
    "\n",
    "response = requests.get(url)\n",
    "data = response.json()\n",
    "\n",
    "with open('mydata.txt', 'w') as file:\n",
    "    json.dump(data, file, indent=4)"
   ]
  },
  {
   "cell_type": "code",
   "execution_count": 13,
   "metadata": {},
   "outputs": [
    {
     "data": {
      "text/plain": [
       "dict"
      ]
     },
     "execution_count": 13,
     "metadata": {},
     "output_type": "execute_result"
    }
   ],
   "source": [
    "type(data)"
   ]
  },
  {
   "cell_type": "markdown",
   "metadata": {},
   "source": [
    "The structure of the data Dict:\n",
    "\n",
    "    - \"currentTime\": time in Unix timestamp format\n",
    "    - \"version\": 3,\n",
    "    - \"status\": \"OK\",\n",
    "    - \"code\": 200,\n",
    "    - \"text\": \"OK\",\n",
    "    - \"data\": all the information embedded here\n"
   ]
  },
  {
   "cell_type": "code",
   "execution_count": 10,
   "metadata": {},
   "outputs": [
    {
     "data": {
      "text/html": [
       "<div>\n",
       "<style scoped>\n",
       "    .dataframe tbody tr th:only-of-type {\n",
       "        vertical-align: middle;\n",
       "    }\n",
       "\n",
       "    .dataframe tbody tr th {\n",
       "        vertical-align: top;\n",
       "    }\n",
       "\n",
       "    .dataframe thead th {\n",
       "        text-align: right;\n",
       "    }\n",
       "</style>\n",
       "<table border=\"1\" class=\"dataframe\">\n",
       "  <thead>\n",
       "    <tr style=\"text-align: right;\">\n",
       "      <th></th>\n",
       "      <th>currentTime</th>\n",
       "      <th>version</th>\n",
       "      <th>status</th>\n",
       "      <th>code</th>\n",
       "      <th>text</th>\n",
       "      <th>data</th>\n",
       "    </tr>\n",
       "  </thead>\n",
       "  <tbody>\n",
       "    <tr>\n",
       "      <th>class</th>\n",
       "      <td>1705653934594</td>\n",
       "      <td>3</td>\n",
       "      <td>OK</td>\n",
       "      <td>200</td>\n",
       "      <td>OK</td>\n",
       "      <td>listWithReferences</td>\n",
       "    </tr>\n",
       "    <tr>\n",
       "      <th>limitExceeded</th>\n",
       "      <td>1705653934594</td>\n",
       "      <td>3</td>\n",
       "      <td>OK</td>\n",
       "      <td>200</td>\n",
       "      <td>OK</td>\n",
       "      <td>False</td>\n",
       "    </tr>\n",
       "    <tr>\n",
       "      <th>list</th>\n",
       "      <td>1705653934594</td>\n",
       "      <td>3</td>\n",
       "      <td>OK</td>\n",
       "      <td>200</td>\n",
       "      <td>OK</td>\n",
       "      <td>[{'id': '42711896', 'lat': 47.51032, 'lon': 19...</td>\n",
       "    </tr>\n",
       "    <tr>\n",
       "      <th>outOfRange</th>\n",
       "      <td>1705653934594</td>\n",
       "      <td>3</td>\n",
       "      <td>OK</td>\n",
       "      <td>200</td>\n",
       "      <td>OK</td>\n",
       "      <td>False</td>\n",
       "    </tr>\n",
       "  </tbody>\n",
       "</table>\n",
       "</div>"
      ],
      "text/plain": [
       "                 currentTime  version status  code text  \\\n",
       "class          1705653934594        3     OK   200   OK   \n",
       "limitExceeded  1705653934594        3     OK   200   OK   \n",
       "list           1705653934594        3     OK   200   OK   \n",
       "outOfRange     1705653934594        3     OK   200   OK   \n",
       "\n",
       "                                                            data  \n",
       "class                                         listWithReferences  \n",
       "limitExceeded                                              False  \n",
       "list           [{'id': '42711896', 'lat': 47.51032, 'lon': 19...  \n",
       "outOfRange                                                 False  "
      ]
     },
     "execution_count": 10,
     "metadata": {},
     "output_type": "execute_result"
    }
   ],
   "source": [
    "\n",
    "# create a dataframe from the data\n",
    "bicycle_rental = pd.DataFrame(data)\n",
    "bicycle_rental.head(10)"
   ]
  },
  {
   "cell_type": "markdown",
   "metadata": {},
   "source": [
    "A simple test calculating the average number of bikes at the stations."
   ]
  },
  {
   "cell_type": "code",
   "execution_count": 60,
   "metadata": {},
   "outputs": [
    {
     "name": "stdout",
     "output_type": "stream",
     "text": [
      "7.24\n"
     ]
    }
   ],
   "source": [
    "extracteddata = []\n",
    "atl = 0\n",
    "for mylist in data[\"data\"][\"list\"]:\n",
    "    if mylist[\"code\"] != \"BIKES\" and mylist[\"spaces\"] != \"0\":\n",
    "        extracteddata.append(mylist[\"bikes\"])\n",
    "for i in range(len(extracteddata)):\n",
    "    atl += extracteddata[i]\n",
    "atl /= len(extracteddata)\n",
    "print(f\"{str(atl)[0:4]}\")\n",
    "    "
   ]
  }
 ],
 "metadata": {
  "kernelspec": {
   "display_name": "venv",
   "language": "python",
   "name": "python3"
  },
  "language_info": {
   "codemirror_mode": {
    "name": "ipython",
    "version": 3
   },
   "file_extension": ".py",
   "mimetype": "text/x-python",
   "name": "python",
   "nbconvert_exporter": "python",
   "pygments_lexer": "ipython3",
   "version": "3.11.6"
  }
 },
 "nbformat": 4,
 "nbformat_minor": 2
}
